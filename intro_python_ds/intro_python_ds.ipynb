{
 "cells": [
  {
   "cell_type": "markdown",
   "id": "d127946c",
   "metadata": {},
   "source": [
    "### intro notes"
   ]
  },
  {
   "cell_type": "markdown",
   "id": "5671783a",
   "metadata": {},
   "source": [
    "Modules (sometimes called packages or libraries) help group together related sets of tools in Python. In this exercise, we'll examine two modules that are frequently used by Data Scientists:\n",
    "\n",
    "statsmodels: used in machine learning; usually aliased as sm\n",
    "seaborn: a visualization library; usually aliased as sns\n",
    "Note that each module has a standard alias, which allows you to access the tools inside of the module without typing as many characters. For example, aliasing lets us shorten seaborn.scatterplot() to sns.scatterplot()."
   ]
  },
  {
   "cell_type": "markdown",
   "id": "c125b7e8",
   "metadata": {},
   "source": [
    "### import modules"
   ]
  },
  {
   "cell_type": "markdown",
   "id": "18b1c67d",
   "metadata": {},
   "source": [
    "use an import statement to import statsmodels without an alias."
   ]
  },
  {
   "cell_type": "code",
   "execution_count": 5,
   "id": "44a54d95",
   "metadata": {},
   "outputs": [],
   "source": [
    "# Import statsmodels with no alias\n",
    "import statsmodels\n",
    "# Import statsmodels under the alias sm\n",
    "import statsmodels as sm\n",
    "# Use an import statement to import seaborn with alias sns\n",
    "import seaborn as sns"
   ]
  },
  {
   "cell_type": "markdown",
   "id": "031c587b",
   "metadata": {},
   "source": [
    "### module issue"
   ]
  },
  {
   "cell_type": "code",
   "execution_count": 6,
   "id": "81f63e1d",
   "metadata": {},
   "outputs": [],
   "source": [
    "# Fix the import of numpy to run without errors\n",
    "import numpy as np"
   ]
  },
  {
   "cell_type": "markdown",
   "id": "0ef4f231",
   "metadata": {},
   "source": [
    "### variables"
   ]
  },
  {
   "cell_type": "markdown",
   "id": "78ec2a6b",
   "metadata": {},
   "source": [
    "We define a variable using an equals sign (=)."
   ]
  },
  {
   "cell_type": "code",
   "execution_count": 1,
   "id": "a33b7212",
   "metadata": {},
   "outputs": [
    {
     "name": "stdout",
     "output_type": "stream",
     "text": [
      "4.0\n"
     ]
    }
   ],
   "source": [
    "# Fill in Bayes' age (4.0)\n",
    "bayes_age = 4.0\n",
    "\n",
    "# Display the variable bayes_age\n",
    "print(bayes_age)"
   ]
  },
  {
   "cell_type": "markdown",
   "id": "56505dfe",
   "metadata": {},
   "source": [
    "A string represents text. A string is surrounded by quotation marks (' or \") and can contain letters, numbers, and special characters. It doesn't matter if you use single (') or double (\") quotes, but it's important to be consistent throughout your code."
   ]
  },
  {
   "cell_type": "code",
   "execution_count": 2,
   "id": "75e4b4cc",
   "metadata": {},
   "outputs": [
    {
     "name": "stdout",
     "output_type": "stream",
     "text": [
      "Mr. Squeaky\n",
      "DataCamp\n"
     ]
    }
   ],
   "source": [
    "# Bayes' favorite toy\n",
    "favorite_toy = \"Mr. Squeaky\"\n",
    "\n",
    "# Bayes' owner\n",
    "owner = \"DataCamp\"\n",
    "\n",
    "# Display variables\n",
    "print(favorite_toy)\n",
    "print(owner)"
   ]
  },
  {
   "cell_type": "markdown",
   "id": "d4330ff5",
   "metadata": {},
   "source": [
    "it's easy to make errors when you're trying to type strings quickly.\n",
    "\n",
    "Don't forget to use quotes! Without quotes, you'll get a name error.\n",
    "owner = DataCamp\n",
    "\n",
    "Use the same type of quotation mark. If you start with a single quote, and end with a double quote, you'll get a syntax error.\n",
    "fur_color = \"blonde'"
   ]
  },
  {
   "cell_type": "markdown",
   "id": "8f179137",
   "metadata": {},
   "source": [
    "### Fun with Functions"
   ]
  },
  {
   "cell_type": "code",
   "execution_count": 3,
   "id": "dd379f06",
   "metadata": {},
   "outputs": [
    {
     "ename": "FileNotFoundError",
     "evalue": "[Errno 2] No such file or directory: 'ransom.csv'",
     "output_type": "error",
     "traceback": [
      "\u001b[1;31m---------------------------------------------------------------------------\u001b[0m",
      "\u001b[1;31mFileNotFoundError\u001b[0m                         Traceback (most recent call last)",
      "\u001b[1;32m~\\AppData\\Local\\Temp/ipykernel_12548/33942973.py\u001b[0m in \u001b[0;36m<module>\u001b[1;34m\u001b[0m\n\u001b[0;32m      4\u001b[0m \u001b[1;33m\u001b[0m\u001b[0m\n\u001b[0;32m      5\u001b[0m \u001b[1;31m# Load the 'ransom.csv' into a DataFrame\u001b[0m\u001b[1;33m\u001b[0m\u001b[1;33m\u001b[0m\u001b[1;33m\u001b[0m\u001b[0m\n\u001b[1;32m----> 6\u001b[1;33m \u001b[0mr\u001b[0m \u001b[1;33m=\u001b[0m \u001b[0mpd\u001b[0m\u001b[1;33m.\u001b[0m\u001b[0mread_csv\u001b[0m\u001b[1;33m(\u001b[0m\u001b[1;34m'ransom.csv'\u001b[0m\u001b[1;33m)\u001b[0m\u001b[1;33m\u001b[0m\u001b[1;33m\u001b[0m\u001b[0m\n\u001b[0m\u001b[0;32m      7\u001b[0m \u001b[1;33m\u001b[0m\u001b[0m\n\u001b[0;32m      8\u001b[0m \u001b[1;31m# Display DataFrame\u001b[0m\u001b[1;33m\u001b[0m\u001b[1;33m\u001b[0m\u001b[1;33m\u001b[0m\u001b[0m\n",
      "\u001b[1;32m~\\anaconda3\\lib\\site-packages\\pandas\\io\\parsers.py\u001b[0m in \u001b[0;36mread_csv\u001b[1;34m(filepath_or_buffer, sep, delimiter, header, names, index_col, usecols, squeeze, prefix, mangle_dupe_cols, dtype, engine, converters, true_values, false_values, skipinitialspace, skiprows, skipfooter, nrows, na_values, keep_default_na, na_filter, verbose, skip_blank_lines, parse_dates, infer_datetime_format, keep_date_col, date_parser, dayfirst, cache_dates, iterator, chunksize, compression, thousands, decimal, lineterminator, quotechar, quoting, doublequote, escapechar, comment, encoding, dialect, error_bad_lines, warn_bad_lines, delim_whitespace, low_memory, memory_map, float_precision)\u001b[0m\n\u001b[0;32m    684\u001b[0m     )\n\u001b[0;32m    685\u001b[0m \u001b[1;33m\u001b[0m\u001b[0m\n\u001b[1;32m--> 686\u001b[1;33m     \u001b[1;32mreturn\u001b[0m \u001b[0m_read\u001b[0m\u001b[1;33m(\u001b[0m\u001b[0mfilepath_or_buffer\u001b[0m\u001b[1;33m,\u001b[0m \u001b[0mkwds\u001b[0m\u001b[1;33m)\u001b[0m\u001b[1;33m\u001b[0m\u001b[1;33m\u001b[0m\u001b[0m\n\u001b[0m\u001b[0;32m    687\u001b[0m \u001b[1;33m\u001b[0m\u001b[0m\n\u001b[0;32m    688\u001b[0m \u001b[1;33m\u001b[0m\u001b[0m\n",
      "\u001b[1;32m~\\anaconda3\\lib\\site-packages\\pandas\\io\\parsers.py\u001b[0m in \u001b[0;36m_read\u001b[1;34m(filepath_or_buffer, kwds)\u001b[0m\n\u001b[0;32m    450\u001b[0m \u001b[1;33m\u001b[0m\u001b[0m\n\u001b[0;32m    451\u001b[0m     \u001b[1;31m# Create the parser.\u001b[0m\u001b[1;33m\u001b[0m\u001b[1;33m\u001b[0m\u001b[1;33m\u001b[0m\u001b[0m\n\u001b[1;32m--> 452\u001b[1;33m     \u001b[0mparser\u001b[0m \u001b[1;33m=\u001b[0m \u001b[0mTextFileReader\u001b[0m\u001b[1;33m(\u001b[0m\u001b[0mfp_or_buf\u001b[0m\u001b[1;33m,\u001b[0m \u001b[1;33m**\u001b[0m\u001b[0mkwds\u001b[0m\u001b[1;33m)\u001b[0m\u001b[1;33m\u001b[0m\u001b[1;33m\u001b[0m\u001b[0m\n\u001b[0m\u001b[0;32m    453\u001b[0m \u001b[1;33m\u001b[0m\u001b[0m\n\u001b[0;32m    454\u001b[0m     \u001b[1;32mif\u001b[0m \u001b[0mchunksize\u001b[0m \u001b[1;32mor\u001b[0m \u001b[0miterator\u001b[0m\u001b[1;33m:\u001b[0m\u001b[1;33m\u001b[0m\u001b[1;33m\u001b[0m\u001b[0m\n",
      "\u001b[1;32m~\\anaconda3\\lib\\site-packages\\pandas\\io\\parsers.py\u001b[0m in \u001b[0;36m__init__\u001b[1;34m(self, f, engine, **kwds)\u001b[0m\n\u001b[0;32m    944\u001b[0m             \u001b[0mself\u001b[0m\u001b[1;33m.\u001b[0m\u001b[0moptions\u001b[0m\u001b[1;33m[\u001b[0m\u001b[1;34m\"has_index_names\"\u001b[0m\u001b[1;33m]\u001b[0m \u001b[1;33m=\u001b[0m \u001b[0mkwds\u001b[0m\u001b[1;33m[\u001b[0m\u001b[1;34m\"has_index_names\"\u001b[0m\u001b[1;33m]\u001b[0m\u001b[1;33m\u001b[0m\u001b[1;33m\u001b[0m\u001b[0m\n\u001b[0;32m    945\u001b[0m \u001b[1;33m\u001b[0m\u001b[0m\n\u001b[1;32m--> 946\u001b[1;33m         \u001b[0mself\u001b[0m\u001b[1;33m.\u001b[0m\u001b[0m_make_engine\u001b[0m\u001b[1;33m(\u001b[0m\u001b[0mself\u001b[0m\u001b[1;33m.\u001b[0m\u001b[0mengine\u001b[0m\u001b[1;33m)\u001b[0m\u001b[1;33m\u001b[0m\u001b[1;33m\u001b[0m\u001b[0m\n\u001b[0m\u001b[0;32m    947\u001b[0m \u001b[1;33m\u001b[0m\u001b[0m\n\u001b[0;32m    948\u001b[0m     \u001b[1;32mdef\u001b[0m \u001b[0mclose\u001b[0m\u001b[1;33m(\u001b[0m\u001b[0mself\u001b[0m\u001b[1;33m)\u001b[0m\u001b[1;33m:\u001b[0m\u001b[1;33m\u001b[0m\u001b[1;33m\u001b[0m\u001b[0m\n",
      "\u001b[1;32m~\\anaconda3\\lib\\site-packages\\pandas\\io\\parsers.py\u001b[0m in \u001b[0;36m_make_engine\u001b[1;34m(self, engine)\u001b[0m\n\u001b[0;32m   1176\u001b[0m     \u001b[1;32mdef\u001b[0m \u001b[0m_make_engine\u001b[0m\u001b[1;33m(\u001b[0m\u001b[0mself\u001b[0m\u001b[1;33m,\u001b[0m \u001b[0mengine\u001b[0m\u001b[1;33m=\u001b[0m\u001b[1;34m\"c\"\u001b[0m\u001b[1;33m)\u001b[0m\u001b[1;33m:\u001b[0m\u001b[1;33m\u001b[0m\u001b[1;33m\u001b[0m\u001b[0m\n\u001b[0;32m   1177\u001b[0m         \u001b[1;32mif\u001b[0m \u001b[0mengine\u001b[0m \u001b[1;33m==\u001b[0m \u001b[1;34m\"c\"\u001b[0m\u001b[1;33m:\u001b[0m\u001b[1;33m\u001b[0m\u001b[1;33m\u001b[0m\u001b[0m\n\u001b[1;32m-> 1178\u001b[1;33m             \u001b[0mself\u001b[0m\u001b[1;33m.\u001b[0m\u001b[0m_engine\u001b[0m \u001b[1;33m=\u001b[0m \u001b[0mCParserWrapper\u001b[0m\u001b[1;33m(\u001b[0m\u001b[0mself\u001b[0m\u001b[1;33m.\u001b[0m\u001b[0mf\u001b[0m\u001b[1;33m,\u001b[0m \u001b[1;33m**\u001b[0m\u001b[0mself\u001b[0m\u001b[1;33m.\u001b[0m\u001b[0moptions\u001b[0m\u001b[1;33m)\u001b[0m\u001b[1;33m\u001b[0m\u001b[1;33m\u001b[0m\u001b[0m\n\u001b[0m\u001b[0;32m   1179\u001b[0m         \u001b[1;32melse\u001b[0m\u001b[1;33m:\u001b[0m\u001b[1;33m\u001b[0m\u001b[1;33m\u001b[0m\u001b[0m\n\u001b[0;32m   1180\u001b[0m             \u001b[1;32mif\u001b[0m \u001b[0mengine\u001b[0m \u001b[1;33m==\u001b[0m \u001b[1;34m\"python\"\u001b[0m\u001b[1;33m:\u001b[0m\u001b[1;33m\u001b[0m\u001b[1;33m\u001b[0m\u001b[0m\n",
      "\u001b[1;32m~\\anaconda3\\lib\\site-packages\\pandas\\io\\parsers.py\u001b[0m in \u001b[0;36m__init__\u001b[1;34m(self, src, **kwds)\u001b[0m\n\u001b[0;32m   2006\u001b[0m         \u001b[0mkwds\u001b[0m\u001b[1;33m[\u001b[0m\u001b[1;34m\"usecols\"\u001b[0m\u001b[1;33m]\u001b[0m \u001b[1;33m=\u001b[0m \u001b[0mself\u001b[0m\u001b[1;33m.\u001b[0m\u001b[0musecols\u001b[0m\u001b[1;33m\u001b[0m\u001b[1;33m\u001b[0m\u001b[0m\n\u001b[0;32m   2007\u001b[0m \u001b[1;33m\u001b[0m\u001b[0m\n\u001b[1;32m-> 2008\u001b[1;33m         \u001b[0mself\u001b[0m\u001b[1;33m.\u001b[0m\u001b[0m_reader\u001b[0m \u001b[1;33m=\u001b[0m \u001b[0mparsers\u001b[0m\u001b[1;33m.\u001b[0m\u001b[0mTextReader\u001b[0m\u001b[1;33m(\u001b[0m\u001b[0msrc\u001b[0m\u001b[1;33m,\u001b[0m \u001b[1;33m**\u001b[0m\u001b[0mkwds\u001b[0m\u001b[1;33m)\u001b[0m\u001b[1;33m\u001b[0m\u001b[1;33m\u001b[0m\u001b[0m\n\u001b[0m\u001b[0;32m   2009\u001b[0m         \u001b[0mself\u001b[0m\u001b[1;33m.\u001b[0m\u001b[0munnamed_cols\u001b[0m \u001b[1;33m=\u001b[0m \u001b[0mself\u001b[0m\u001b[1;33m.\u001b[0m\u001b[0m_reader\u001b[0m\u001b[1;33m.\u001b[0m\u001b[0munnamed_cols\u001b[0m\u001b[1;33m\u001b[0m\u001b[1;33m\u001b[0m\u001b[0m\n\u001b[0;32m   2010\u001b[0m \u001b[1;33m\u001b[0m\u001b[0m\n",
      "\u001b[1;32mpandas\\_libs\\parsers.pyx\u001b[0m in \u001b[0;36mpandas._libs.parsers.TextReader.__cinit__\u001b[1;34m()\u001b[0m\n",
      "\u001b[1;32mpandas\\_libs\\parsers.pyx\u001b[0m in \u001b[0;36mpandas._libs.parsers.TextReader._setup_parser_source\u001b[1;34m()\u001b[0m\n",
      "\u001b[1;31mFileNotFoundError\u001b[0m: [Errno 2] No such file or directory: 'ransom.csv'"
     ]
    }
   ],
   "source": [
    "### Load a file into pands - this will not work - we do not have the file\n",
    "# Import pandas\n",
    "import pandas as pd\n",
    "\n",
    "# Load the 'ransom.csv' into a DataFrame\n",
    "r = pd.read_csv('ransom.csv')\n",
    "\n",
    "# Display DataFrame\n",
    "print(r)"
   ]
  },
  {
   "cell_type": "markdown",
   "id": "fff4edac",
   "metadata": {},
   "source": [
    "### pandas methods and functions"
   ]
  },
  {
   "cell_type": "markdown",
   "id": "0840dc17",
   "metadata": {},
   "source": [
    "##### load data files with read_csv, this will not work as we do not have the csv file in question"
   ]
  },
  {
   "cell_type": "code",
   "execution_count": 5,
   "id": "53ad62fc",
   "metadata": {},
   "outputs": [
    {
     "ename": "FileNotFoundError",
     "evalue": "[Errno 2] No such file or directory: 'credit_records.csv'",
     "output_type": "error",
     "traceback": [
      "\u001b[1;31m---------------------------------------------------------------------------\u001b[0m",
      "\u001b[1;31mFileNotFoundError\u001b[0m                         Traceback (most recent call last)",
      "\u001b[1;32m~\\AppData\\Local\\Temp/ipykernel_12548/2998855061.py\u001b[0m in \u001b[0;36m<module>\u001b[1;34m\u001b[0m\n\u001b[0;32m      3\u001b[0m \u001b[1;33m\u001b[0m\u001b[0m\n\u001b[0;32m      4\u001b[0m \u001b[1;31m# Load the CSV \"credit_records.csv\"\u001b[0m\u001b[1;33m\u001b[0m\u001b[1;33m\u001b[0m\u001b[1;33m\u001b[0m\u001b[0m\n\u001b[1;32m----> 5\u001b[1;33m \u001b[0mcredit_records\u001b[0m \u001b[1;33m=\u001b[0m \u001b[0mpd\u001b[0m\u001b[1;33m.\u001b[0m\u001b[0mread_csv\u001b[0m\u001b[1;33m(\u001b[0m\u001b[1;34m\"credit_records.csv\"\u001b[0m\u001b[1;33m)\u001b[0m\u001b[1;33m\u001b[0m\u001b[1;33m\u001b[0m\u001b[0m\n\u001b[0m\u001b[0;32m      6\u001b[0m \u001b[1;33m\u001b[0m\u001b[0m\n\u001b[0;32m      7\u001b[0m \u001b[1;31m# Display the first five rows of credit_records using the .head() method\u001b[0m\u001b[1;33m\u001b[0m\u001b[1;33m\u001b[0m\u001b[1;33m\u001b[0m\u001b[0m\n",
      "\u001b[1;32m~\\anaconda3\\lib\\site-packages\\pandas\\io\\parsers.py\u001b[0m in \u001b[0;36mread_csv\u001b[1;34m(filepath_or_buffer, sep, delimiter, header, names, index_col, usecols, squeeze, prefix, mangle_dupe_cols, dtype, engine, converters, true_values, false_values, skipinitialspace, skiprows, skipfooter, nrows, na_values, keep_default_na, na_filter, verbose, skip_blank_lines, parse_dates, infer_datetime_format, keep_date_col, date_parser, dayfirst, cache_dates, iterator, chunksize, compression, thousands, decimal, lineterminator, quotechar, quoting, doublequote, escapechar, comment, encoding, dialect, error_bad_lines, warn_bad_lines, delim_whitespace, low_memory, memory_map, float_precision)\u001b[0m\n\u001b[0;32m    684\u001b[0m     )\n\u001b[0;32m    685\u001b[0m \u001b[1;33m\u001b[0m\u001b[0m\n\u001b[1;32m--> 686\u001b[1;33m     \u001b[1;32mreturn\u001b[0m \u001b[0m_read\u001b[0m\u001b[1;33m(\u001b[0m\u001b[0mfilepath_or_buffer\u001b[0m\u001b[1;33m,\u001b[0m \u001b[0mkwds\u001b[0m\u001b[1;33m)\u001b[0m\u001b[1;33m\u001b[0m\u001b[1;33m\u001b[0m\u001b[0m\n\u001b[0m\u001b[0;32m    687\u001b[0m \u001b[1;33m\u001b[0m\u001b[0m\n\u001b[0;32m    688\u001b[0m \u001b[1;33m\u001b[0m\u001b[0m\n",
      "\u001b[1;32m~\\anaconda3\\lib\\site-packages\\pandas\\io\\parsers.py\u001b[0m in \u001b[0;36m_read\u001b[1;34m(filepath_or_buffer, kwds)\u001b[0m\n\u001b[0;32m    450\u001b[0m \u001b[1;33m\u001b[0m\u001b[0m\n\u001b[0;32m    451\u001b[0m     \u001b[1;31m# Create the parser.\u001b[0m\u001b[1;33m\u001b[0m\u001b[1;33m\u001b[0m\u001b[1;33m\u001b[0m\u001b[0m\n\u001b[1;32m--> 452\u001b[1;33m     \u001b[0mparser\u001b[0m \u001b[1;33m=\u001b[0m \u001b[0mTextFileReader\u001b[0m\u001b[1;33m(\u001b[0m\u001b[0mfp_or_buf\u001b[0m\u001b[1;33m,\u001b[0m \u001b[1;33m**\u001b[0m\u001b[0mkwds\u001b[0m\u001b[1;33m)\u001b[0m\u001b[1;33m\u001b[0m\u001b[1;33m\u001b[0m\u001b[0m\n\u001b[0m\u001b[0;32m    453\u001b[0m \u001b[1;33m\u001b[0m\u001b[0m\n\u001b[0;32m    454\u001b[0m     \u001b[1;32mif\u001b[0m \u001b[0mchunksize\u001b[0m \u001b[1;32mor\u001b[0m \u001b[0miterator\u001b[0m\u001b[1;33m:\u001b[0m\u001b[1;33m\u001b[0m\u001b[1;33m\u001b[0m\u001b[0m\n",
      "\u001b[1;32m~\\anaconda3\\lib\\site-packages\\pandas\\io\\parsers.py\u001b[0m in \u001b[0;36m__init__\u001b[1;34m(self, f, engine, **kwds)\u001b[0m\n\u001b[0;32m    944\u001b[0m             \u001b[0mself\u001b[0m\u001b[1;33m.\u001b[0m\u001b[0moptions\u001b[0m\u001b[1;33m[\u001b[0m\u001b[1;34m\"has_index_names\"\u001b[0m\u001b[1;33m]\u001b[0m \u001b[1;33m=\u001b[0m \u001b[0mkwds\u001b[0m\u001b[1;33m[\u001b[0m\u001b[1;34m\"has_index_names\"\u001b[0m\u001b[1;33m]\u001b[0m\u001b[1;33m\u001b[0m\u001b[1;33m\u001b[0m\u001b[0m\n\u001b[0;32m    945\u001b[0m \u001b[1;33m\u001b[0m\u001b[0m\n\u001b[1;32m--> 946\u001b[1;33m         \u001b[0mself\u001b[0m\u001b[1;33m.\u001b[0m\u001b[0m_make_engine\u001b[0m\u001b[1;33m(\u001b[0m\u001b[0mself\u001b[0m\u001b[1;33m.\u001b[0m\u001b[0mengine\u001b[0m\u001b[1;33m)\u001b[0m\u001b[1;33m\u001b[0m\u001b[1;33m\u001b[0m\u001b[0m\n\u001b[0m\u001b[0;32m    947\u001b[0m \u001b[1;33m\u001b[0m\u001b[0m\n\u001b[0;32m    948\u001b[0m     \u001b[1;32mdef\u001b[0m \u001b[0mclose\u001b[0m\u001b[1;33m(\u001b[0m\u001b[0mself\u001b[0m\u001b[1;33m)\u001b[0m\u001b[1;33m:\u001b[0m\u001b[1;33m\u001b[0m\u001b[1;33m\u001b[0m\u001b[0m\n",
      "\u001b[1;32m~\\anaconda3\\lib\\site-packages\\pandas\\io\\parsers.py\u001b[0m in \u001b[0;36m_make_engine\u001b[1;34m(self, engine)\u001b[0m\n\u001b[0;32m   1176\u001b[0m     \u001b[1;32mdef\u001b[0m \u001b[0m_make_engine\u001b[0m\u001b[1;33m(\u001b[0m\u001b[0mself\u001b[0m\u001b[1;33m,\u001b[0m \u001b[0mengine\u001b[0m\u001b[1;33m=\u001b[0m\u001b[1;34m\"c\"\u001b[0m\u001b[1;33m)\u001b[0m\u001b[1;33m:\u001b[0m\u001b[1;33m\u001b[0m\u001b[1;33m\u001b[0m\u001b[0m\n\u001b[0;32m   1177\u001b[0m         \u001b[1;32mif\u001b[0m \u001b[0mengine\u001b[0m \u001b[1;33m==\u001b[0m \u001b[1;34m\"c\"\u001b[0m\u001b[1;33m:\u001b[0m\u001b[1;33m\u001b[0m\u001b[1;33m\u001b[0m\u001b[0m\n\u001b[1;32m-> 1178\u001b[1;33m             \u001b[0mself\u001b[0m\u001b[1;33m.\u001b[0m\u001b[0m_engine\u001b[0m \u001b[1;33m=\u001b[0m \u001b[0mCParserWrapper\u001b[0m\u001b[1;33m(\u001b[0m\u001b[0mself\u001b[0m\u001b[1;33m.\u001b[0m\u001b[0mf\u001b[0m\u001b[1;33m,\u001b[0m \u001b[1;33m**\u001b[0m\u001b[0mself\u001b[0m\u001b[1;33m.\u001b[0m\u001b[0moptions\u001b[0m\u001b[1;33m)\u001b[0m\u001b[1;33m\u001b[0m\u001b[1;33m\u001b[0m\u001b[0m\n\u001b[0m\u001b[0;32m   1179\u001b[0m         \u001b[1;32melse\u001b[0m\u001b[1;33m:\u001b[0m\u001b[1;33m\u001b[0m\u001b[1;33m\u001b[0m\u001b[0m\n\u001b[0;32m   1180\u001b[0m             \u001b[1;32mif\u001b[0m \u001b[0mengine\u001b[0m \u001b[1;33m==\u001b[0m \u001b[1;34m\"python\"\u001b[0m\u001b[1;33m:\u001b[0m\u001b[1;33m\u001b[0m\u001b[1;33m\u001b[0m\u001b[0m\n",
      "\u001b[1;32m~\\anaconda3\\lib\\site-packages\\pandas\\io\\parsers.py\u001b[0m in \u001b[0;36m__init__\u001b[1;34m(self, src, **kwds)\u001b[0m\n\u001b[0;32m   2006\u001b[0m         \u001b[0mkwds\u001b[0m\u001b[1;33m[\u001b[0m\u001b[1;34m\"usecols\"\u001b[0m\u001b[1;33m]\u001b[0m \u001b[1;33m=\u001b[0m \u001b[0mself\u001b[0m\u001b[1;33m.\u001b[0m\u001b[0musecols\u001b[0m\u001b[1;33m\u001b[0m\u001b[1;33m\u001b[0m\u001b[0m\n\u001b[0;32m   2007\u001b[0m \u001b[1;33m\u001b[0m\u001b[0m\n\u001b[1;32m-> 2008\u001b[1;33m         \u001b[0mself\u001b[0m\u001b[1;33m.\u001b[0m\u001b[0m_reader\u001b[0m \u001b[1;33m=\u001b[0m \u001b[0mparsers\u001b[0m\u001b[1;33m.\u001b[0m\u001b[0mTextReader\u001b[0m\u001b[1;33m(\u001b[0m\u001b[0msrc\u001b[0m\u001b[1;33m,\u001b[0m \u001b[1;33m**\u001b[0m\u001b[0mkwds\u001b[0m\u001b[1;33m)\u001b[0m\u001b[1;33m\u001b[0m\u001b[1;33m\u001b[0m\u001b[0m\n\u001b[0m\u001b[0;32m   2009\u001b[0m         \u001b[0mself\u001b[0m\u001b[1;33m.\u001b[0m\u001b[0munnamed_cols\u001b[0m \u001b[1;33m=\u001b[0m \u001b[0mself\u001b[0m\u001b[1;33m.\u001b[0m\u001b[0m_reader\u001b[0m\u001b[1;33m.\u001b[0m\u001b[0munnamed_cols\u001b[0m\u001b[1;33m\u001b[0m\u001b[1;33m\u001b[0m\u001b[0m\n\u001b[0;32m   2010\u001b[0m \u001b[1;33m\u001b[0m\u001b[0m\n",
      "\u001b[1;32mpandas\\_libs\\parsers.pyx\u001b[0m in \u001b[0;36mpandas._libs.parsers.TextReader.__cinit__\u001b[1;34m()\u001b[0m\n",
      "\u001b[1;32mpandas\\_libs\\parsers.pyx\u001b[0m in \u001b[0;36mpandas._libs.parsers.TextReader._setup_parser_source\u001b[1;34m()\u001b[0m\n",
      "\u001b[1;31mFileNotFoundError\u001b[0m: [Errno 2] No such file or directory: 'credit_records.csv'"
     ]
    }
   ],
   "source": [
    "# Import pandas under the alias pd\n",
    "import pandas as pd\n",
    "\n",
    "# Load the CSV \"credit_records.csv\"\n",
    "credit_records = pd.read_csv(\"credit_records.csv\")\n",
    "\n",
    "# Display the first five rows of credit_records using the .head() method\n",
    "print(credit_records.head())"
   ]
  },
  {
   "cell_type": "raw",
   "id": "160d6c90",
   "metadata": {},
   "source": [
    ".info() shows interesting information - number of rows, data types, etc."
   ]
  },
  {
   "cell_type": "code",
   "execution_count": 6,
   "id": "cffc0b9a",
   "metadata": {},
   "outputs": [
    {
     "ename": "NameError",
     "evalue": "name 'credit_records' is not defined",
     "output_type": "error",
     "traceback": [
      "\u001b[1;31m---------------------------------------------------------------------------\u001b[0m",
      "\u001b[1;31mNameError\u001b[0m                                 Traceback (most recent call last)",
      "\u001b[1;32m~\\AppData\\Local\\Temp/ipykernel_12548/2031867268.py\u001b[0m in \u001b[0;36m<module>\u001b[1;34m\u001b[0m\n\u001b[0;32m      1\u001b[0m \u001b[1;31m# Use .info() to inspect the DataFrame credit_records\u001b[0m\u001b[1;33m\u001b[0m\u001b[1;33m\u001b[0m\u001b[1;33m\u001b[0m\u001b[0m\n\u001b[1;32m----> 2\u001b[1;33m \u001b[0mprint\u001b[0m\u001b[1;33m(\u001b[0m\u001b[0mcredit_records\u001b[0m\u001b[1;33m.\u001b[0m\u001b[0minfo\u001b[0m\u001b[1;33m(\u001b[0m\u001b[1;33m)\u001b[0m\u001b[1;33m)\u001b[0m\u001b[1;33m\u001b[0m\u001b[1;33m\u001b[0m\u001b[0m\n\u001b[0m",
      "\u001b[1;31mNameError\u001b[0m: name 'credit_records' is not defined"
     ]
    }
   ],
   "source": [
    "# Use .info() to inspect the DataFrame credit_records\n",
    "print(credit_records.info())"
   ]
  },
  {
   "cell_type": "markdown",
   "id": "b778d895",
   "metadata": {},
   "source": [
    "### selecting columns in dataframes"
   ]
  },
  {
   "cell_type": "code",
   "execution_count": 7,
   "id": "0050c9d6",
   "metadata": {},
   "outputs": [
    {
     "ename": "NameError",
     "evalue": "name 'credit_records' is not defined",
     "output_type": "error",
     "traceback": [
      "\u001b[1;31m---------------------------------------------------------------------------\u001b[0m",
      "\u001b[1;31mNameError\u001b[0m                                 Traceback (most recent call last)",
      "\u001b[1;32m~\\AppData\\Local\\Temp/ipykernel_12548/398584348.py\u001b[0m in \u001b[0;36m<module>\u001b[1;34m\u001b[0m\n\u001b[0;32m      1\u001b[0m \u001b[1;31m#if your name has no spaces, punctuation or special characters - can use dot notation.\u001b[0m\u001b[1;33m\u001b[0m\u001b[1;33m\u001b[0m\u001b[1;33m\u001b[0m\u001b[0m\n\u001b[1;32m----> 2\u001b[1;33m \u001b[0mcredit_records\u001b[0m\u001b[1;33m.\u001b[0m\u001b[0mitem\u001b[0m\u001b[1;33m\u001b[0m\u001b[1;33m\u001b[0m\u001b[0m\n\u001b[0m\u001b[0;32m      3\u001b[0m \u001b[1;33m\u001b[0m\u001b[0m\n\u001b[0;32m      4\u001b[0m \u001b[1;31m#if its more than one word, has special characters or punctuation, MUST use string notation\u001b[0m\u001b[1;33m\u001b[0m\u001b[1;33m\u001b[0m\u001b[1;33m\u001b[0m\u001b[0m\n\u001b[0;32m      5\u001b[0m \u001b[0mcredit_records\u001b[0m\u001b[1;33m[\u001b[0m\u001b[1;34m'item'\u001b[0m\u001b[1;33m]\u001b[0m\u001b[1;33m\u001b[0m\u001b[1;33m\u001b[0m\u001b[0m\n",
      "\u001b[1;31mNameError\u001b[0m: name 'credit_records' is not defined"
     ]
    }
   ],
   "source": [
    "#if your name has no spaces, punctuation or special characters - can use dot notation.\n",
    "credit_records.item\n",
    "\n",
    "#if its more than one word, has special characters or punctuation, MUST use string notation\n",
    "credit_records['item']"
   ]
  },
  {
   "cell_type": "markdown",
   "id": "62626730-bfee-497e-8a88-2f1af413effe",
   "metadata": {},
   "source": [
    "### Logical Testing"
   ]
  },
  {
   "cell_type": "raw",
   "id": "e21d53c2-4731-4149-aeb2-1d5a22afc8d9",
   "metadata": {},
   "source": [
    "Recall that we use the following operators:\n",
    "\n",
    "== tests that two values are equal.\n",
    "!= tests that two values are not equal.\n",
    "> and < test that greater than or less than, respectively.\n",
    ">= and <= test greater than or equal to or less than or equal to, respectively."
   ]
  },
  {
   "cell_type": "code",
   "execution_count": 2,
   "id": "517edb8a-3634-44aa-9148-bdc3360f96ac",
   "metadata": {},
   "outputs": [
    {
     "name": "stdout",
     "output_type": "stream",
     "text": [
      "False\n",
      "True\n",
      "True\n"
     ]
    }
   ],
   "source": [
    "height_inches = 65\n",
    "plate1= 'FRQ123'\n",
    "fur_color = 'blonde'\n",
    "\n",
    "# Is height_inches greater than 70 inches?\n",
    "print(height_inches > 70)\n",
    "\n",
    "# Is plate1 equal to \"FRQ123\"?\n",
    "print(plate1 == \"FRQ123\")\n",
    "\n",
    "# Is fur_color not equal to \"brown\"?\n",
    "print(fur_color != \"brown\")"
   ]
  },
  {
   "cell_type": "markdown",
   "id": "55cb3c7a-16a7-4720-aea8-0fe3facee61c",
   "metadata": {},
   "source": [
    "### remember - we don't have the mpr data set :( "
   ]
  },
  {
   "cell_type": "code",
   "execution_count": 3,
   "id": "190414fc-3c9a-496f-aa8a-897e4f5c39c3",
   "metadata": {},
   "outputs": [
    {
     "ename": "NameError",
     "evalue": "name 'mpr' is not defined",
     "output_type": "error",
     "traceback": [
      "\u001b[1;31m---------------------------------------------------------------------------\u001b[0m",
      "\u001b[1;31mNameError\u001b[0m                                 Traceback (most recent call last)",
      "Input \u001b[1;32mIn [3]\u001b[0m, in \u001b[0;36m<cell line: 2>\u001b[1;34m()\u001b[0m\n\u001b[0;32m      1\u001b[0m \u001b[38;5;66;03m# Select the dogs where Age is greater than 2\u001b[39;00m\n\u001b[1;32m----> 2\u001b[0m greater_than_2 \u001b[38;5;241m=\u001b[39m \u001b[43mmpr\u001b[49m[mpr\u001b[38;5;241m.\u001b[39mAge \u001b[38;5;241m>\u001b[39m \u001b[38;5;241m2\u001b[39m]\n\u001b[0;32m      3\u001b[0m \u001b[38;5;28mprint\u001b[39m(greater_than_2)\n\u001b[0;32m      5\u001b[0m \u001b[38;5;66;03m# Select the dogs whose Status is equal to Still Missing\u001b[39;00m\n",
      "\u001b[1;31mNameError\u001b[0m: name 'mpr' is not defined"
     ]
    }
   ],
   "source": [
    "# Select the dogs where Age is greater than 2\n",
    "greater_than_2 = mpr[mpr.Age > 2]\n",
    "print(greater_than_2)\n",
    "\n",
    "# Select the dogs whose Status is equal to Still Missing\n",
    "still_missing = mpr[mpr.Status == 'Still Missing']\n",
    "print(still_missing)\n",
    "\n",
    "# Select all dogs whose Dog Breed is not equal to Poodle\n",
    "not_poodle = mpr[mpr['Dog Breed'] != 'Poodle']\n",
    "print(not_poodle)"
   ]
  },
  {
   "cell_type": "code",
   "execution_count": 4,
   "id": "afef615a-7786-4a93-b731-dc216c8e0ff8",
   "metadata": {},
   "outputs": [
    {
     "ename": "NameError",
     "evalue": "name 'credit_records' is not defined",
     "output_type": "error",
     "traceback": [
      "\u001b[1;31m---------------------------------------------------------------------------\u001b[0m",
      "\u001b[1;31mNameError\u001b[0m                                 Traceback (most recent call last)",
      "Input \u001b[1;32mIn [4]\u001b[0m, in \u001b[0;36m<cell line: 2>\u001b[1;34m()\u001b[0m\n\u001b[0;32m      1\u001b[0m \u001b[38;5;66;03m# Select purchases from 'Pet Paradise'\u001b[39;00m\n\u001b[1;32m----> 2\u001b[0m purchase \u001b[38;5;241m=\u001b[39m \u001b[43mcredit_records\u001b[49m[credit_records\u001b[38;5;241m.\u001b[39mlocation \u001b[38;5;241m==\u001b[39m \u001b[38;5;124m'\u001b[39m\u001b[38;5;124mPet Paradise\u001b[39m\u001b[38;5;124m'\u001b[39m]\n\u001b[0;32m      4\u001b[0m \u001b[38;5;66;03m# Display\u001b[39;00m\n\u001b[0;32m      5\u001b[0m \u001b[38;5;28mprint\u001b[39m(purchase)\n",
      "\u001b[1;31mNameError\u001b[0m: name 'credit_records' is not defined"
     ]
    }
   ],
   "source": [
    "# Select purchases from 'Pet Paradise'\n",
    "purchase = credit_records[credit_records.location == 'Pet Paradise']\n",
    "\n",
    "# Display\n",
    "print(purchase)"
   ]
  },
  {
   "cell_type": "markdown",
   "id": "1a8c1983-ebfc-43ab-baa6-013d0018a27d",
   "metadata": {},
   "source": [
    "### intro to matplotlib"
   ]
  },
  {
   "cell_type": "code",
   "execution_count": 5,
   "id": "97704853-c7cf-4635-b579-85c25a8ff0f2",
   "metadata": {},
   "outputs": [
    {
     "ename": "NameError",
     "evalue": "name 'deshaun' is not defined",
     "output_type": "error",
     "traceback": [
      "\u001b[1;31m---------------------------------------------------------------------------\u001b[0m",
      "\u001b[1;31mNameError\u001b[0m                                 Traceback (most recent call last)",
      "Input \u001b[1;32mIn [5]\u001b[0m, in \u001b[0;36m<cell line: 6>\u001b[1;34m()\u001b[0m\n\u001b[0;32m      2\u001b[0m \u001b[38;5;28;01mfrom\u001b[39;00m \u001b[38;5;21;01mmatplotlib\u001b[39;00m \u001b[38;5;28;01mimport\u001b[39;00m pyplot \u001b[38;5;28;01mas\u001b[39;00m plt\n\u001b[0;32m      4\u001b[0m \u001b[38;5;66;03m# Plot Officer Deshaun's hours_worked vs. day_of_week\u001b[39;00m\n\u001b[0;32m      5\u001b[0m \u001b[38;5;66;03m# show the x variable first, then the y variable\u001b[39;00m\n\u001b[1;32m----> 6\u001b[0m plt\u001b[38;5;241m.\u001b[39mplot(\u001b[43mdeshaun\u001b[49m\u001b[38;5;241m.\u001b[39mday_of_week, deshaun\u001b[38;5;241m.\u001b[39mhours_worked)\n\u001b[0;32m      8\u001b[0m \u001b[38;5;66;03m# Display Deshaun's plot\u001b[39;00m\n\u001b[0;32m      9\u001b[0m plt\u001b[38;5;241m.\u001b[39mshow()\n",
      "\u001b[1;31mNameError\u001b[0m: name 'deshaun' is not defined"
     ]
    }
   ],
   "source": [
    "# From matplotlib, import pyplot under the alias plt\n",
    "from matplotlib import pyplot as plt\n",
    "\n",
    "# Plot Officer Deshaun's hours_worked vs. day_of_week\n",
    "# show the x variable first, then the y variable\n",
    "plt.plot(deshaun.day_of_week, deshaun.hours_worked)\n",
    "\n",
    "# Display Deshaun's plot\n",
    "plt.show()"
   ]
  },
  {
   "cell_type": "markdown",
   "id": "6300539c-d96f-4605-9ecd-db032241bd4e",
   "metadata": {},
   "source": [
    "### add labels and foncolors, etc"
   ]
  },
  {
   "cell_type": "code",
   "execution_count": 7,
   "id": "41dc1849-8421-491d-a23c-5be2b0903f4d",
   "metadata": {},
   "outputs": [
    {
     "ename": "NameError",
     "evalue": "name 'deshaun' is not defined",
     "output_type": "error",
     "traceback": [
      "\u001b[1;31m---------------------------------------------------------------------------\u001b[0m",
      "\u001b[1;31mNameError\u001b[0m                                 Traceback (most recent call last)",
      "Input \u001b[1;32mIn [7]\u001b[0m, in \u001b[0;36m<cell line: 2>\u001b[1;34m()\u001b[0m\n\u001b[0;32m      1\u001b[0m \u001b[38;5;66;03m# Lines\u001b[39;00m\n\u001b[1;32m----> 2\u001b[0m plt\u001b[38;5;241m.\u001b[39mplot(\u001b[43mdeshaun\u001b[49m\u001b[38;5;241m.\u001b[39mday_of_week, deshaun\u001b[38;5;241m.\u001b[39mhours_worked, label\u001b[38;5;241m=\u001b[39m\u001b[38;5;124m'\u001b[39m\u001b[38;5;124mDeshaun\u001b[39m\u001b[38;5;124m'\u001b[39m)\n\u001b[0;32m      3\u001b[0m plt\u001b[38;5;241m.\u001b[39mplot(aditya\u001b[38;5;241m.\u001b[39mday_of_week, aditya\u001b[38;5;241m.\u001b[39mhours_worked, label\u001b[38;5;241m=\u001b[39m\u001b[38;5;124m'\u001b[39m\u001b[38;5;124mAditya\u001b[39m\u001b[38;5;124m'\u001b[39m)\n\u001b[0;32m      4\u001b[0m plt\u001b[38;5;241m.\u001b[39mplot(mengfei\u001b[38;5;241m.\u001b[39mday_of_week, mengfei\u001b[38;5;241m.\u001b[39mhours_worked, label\u001b[38;5;241m=\u001b[39m\u001b[38;5;124m'\u001b[39m\u001b[38;5;124mMengfei\u001b[39m\u001b[38;5;124m'\u001b[39m)\n",
      "\u001b[1;31mNameError\u001b[0m: name 'deshaun' is not defined"
     ]
    }
   ],
   "source": [
    "# Lines\n",
    "plt.plot(deshaun.day_of_week, deshaun.hours_worked, label='Deshaun')\n",
    "plt.plot(aditya.day_of_week, aditya.hours_worked, label='Aditya')\n",
    "plt.plot(mengfei.day_of_week, mengfei.hours_worked, label='Mengfei')\n",
    "\n",
    "# Add a title\n",
    "plt.title('descriptive title')\n",
    "\n",
    "# Add y-axis label\n",
    "plt.ylabel('y label')\n",
    "\n",
    "# Legend\n",
    "plt.legend()\n",
    "# Display plot\n",
    "plt.show()"
   ]
  },
  {
   "cell_type": "markdown",
   "id": "9f54053a-c1ae-43bf-a2c5-ffac74f39942",
   "metadata": {},
   "source": [
    "### adding an annotation"
   ]
  },
  {
   "cell_type": "code",
   "execution_count": 8,
   "id": "75c7587e-7cc4-409f-b181-e717e593765d",
   "metadata": {},
   "outputs": [
    {
     "ename": "NameError",
     "evalue": "name 'deshaun' is not defined",
     "output_type": "error",
     "traceback": [
      "\u001b[1;31m---------------------------------------------------------------------------\u001b[0m",
      "\u001b[1;31mNameError\u001b[0m                                 Traceback (most recent call last)",
      "Input \u001b[1;32mIn [8]\u001b[0m, in \u001b[0;36m<cell line: 2>\u001b[1;34m()\u001b[0m\n\u001b[0;32m      1\u001b[0m \u001b[38;5;66;03m# Lines\u001b[39;00m\n\u001b[1;32m----> 2\u001b[0m plt\u001b[38;5;241m.\u001b[39mplot(\u001b[43mdeshaun\u001b[49m\u001b[38;5;241m.\u001b[39mday_of_week, deshaun\u001b[38;5;241m.\u001b[39mhours_worked, label\u001b[38;5;241m=\u001b[39m\u001b[38;5;124m'\u001b[39m\u001b[38;5;124mDeshaun\u001b[39m\u001b[38;5;124m'\u001b[39m)\n\u001b[0;32m      3\u001b[0m plt\u001b[38;5;241m.\u001b[39mplot(aditya\u001b[38;5;241m.\u001b[39mday_of_week, aditya\u001b[38;5;241m.\u001b[39mhours_worked, label\u001b[38;5;241m=\u001b[39m\u001b[38;5;124m'\u001b[39m\u001b[38;5;124mAditya\u001b[39m\u001b[38;5;124m'\u001b[39m)\n\u001b[0;32m      4\u001b[0m plt\u001b[38;5;241m.\u001b[39mplot(mengfei\u001b[38;5;241m.\u001b[39mday_of_week, mengfei\u001b[38;5;241m.\u001b[39mhours_worked, label\u001b[38;5;241m=\u001b[39m\u001b[38;5;124m'\u001b[39m\u001b[38;5;124mMengfei\u001b[39m\u001b[38;5;124m'\u001b[39m)\n",
      "\u001b[1;31mNameError\u001b[0m: name 'deshaun' is not defined"
     ]
    }
   ],
   "source": [
    "# Lines\n",
    "plt.plot(deshaun.day_of_week, deshaun.hours_worked, label='Deshaun')\n",
    "plt.plot(aditya.day_of_week, aditya.hours_worked, label='Aditya')\n",
    "plt.plot(mengfei.day_of_week, mengfei.hours_worked, label='Mengfei')\n",
    "\n",
    "# Add a title\n",
    "plt.title('descriptive title')\n",
    "\n",
    "# Add y-axis label\n",
    "plt.ylabel('y label')\n",
    "\n",
    "# Legend\n",
    "plt.legend()\n",
    "# Display plot\n",
    "plt.show()"
   ]
  },
  {
   "cell_type": "markdown",
   "id": "a05c025b-2543-43de-9fd7-67fadea202c9",
   "metadata": {},
   "source": [
    "### stylizing graphs"
   ]
  },
  {
   "cell_type": "raw",
   "id": "13e4b7d8-7c56-4592-b3a6-676d808fc231",
   "metadata": {},
   "source": [
    "This is how youcan change line colors, mrakers at each point, etc"
   ]
  },
  {
   "cell_type": "code",
   "execution_count": 9,
   "id": "c3d641ea-73e7-4fc1-a00d-63a435d9b33b",
   "metadata": {},
   "outputs": [
    {
     "ename": "NameError",
     "evalue": "name 'data' is not defined",
     "output_type": "error",
     "traceback": [
      "\u001b[1;31m---------------------------------------------------------------------------\u001b[0m",
      "\u001b[1;31mNameError\u001b[0m                                 Traceback (most recent call last)",
      "Input \u001b[1;32mIn [9]\u001b[0m, in \u001b[0;36m<cell line: 2>\u001b[1;34m()\u001b[0m\n\u001b[0;32m      1\u001b[0m \u001b[38;5;66;03m# Change the color of Phoenix to `\"DarkCyan\"`\u001b[39;00m\n\u001b[1;32m----> 2\u001b[0m plt\u001b[38;5;241m.\u001b[39mplot(\u001b[43mdata\u001b[49m[\u001b[38;5;124m\"\u001b[39m\u001b[38;5;124mYear\u001b[39m\u001b[38;5;124m\"\u001b[39m], data[\u001b[38;5;124m\"\u001b[39m\u001b[38;5;124mPhoenix Police Dept\u001b[39m\u001b[38;5;124m\"\u001b[39m], label\u001b[38;5;241m=\u001b[39m\u001b[38;5;124m\"\u001b[39m\u001b[38;5;124mPhoenix\u001b[39m\u001b[38;5;124m\"\u001b[39m, color \u001b[38;5;241m=\u001b[39m \u001b[38;5;124m'\u001b[39m\u001b[38;5;124mDarkCyan\u001b[39m\u001b[38;5;124m'\u001b[39m)\n\u001b[0;32m      4\u001b[0m \u001b[38;5;66;03m# Make the Los Angeles line dotted\u001b[39;00m\n\u001b[0;32m      5\u001b[0m plt\u001b[38;5;241m.\u001b[39mplot(data[\u001b[38;5;124m\"\u001b[39m\u001b[38;5;124mYear\u001b[39m\u001b[38;5;124m\"\u001b[39m], data[\u001b[38;5;124m\"\u001b[39m\u001b[38;5;124mLos Angeles Police Dept\u001b[39m\u001b[38;5;124m\"\u001b[39m], label\u001b[38;5;241m=\u001b[39m\u001b[38;5;124m\"\u001b[39m\u001b[38;5;124mLos Angeles\u001b[39m\u001b[38;5;124m\"\u001b[39m, linestyle \u001b[38;5;241m=\u001b[39m \u001b[38;5;124m\"\u001b[39m\u001b[38;5;124m:\u001b[39m\u001b[38;5;124m\"\u001b[39m)\n",
      "\u001b[1;31mNameError\u001b[0m: name 'data' is not defined"
     ]
    }
   ],
   "source": [
    "# Change the color of Phoenix to `\"DarkCyan\"`\n",
    "plt.plot(data[\"Year\"], data[\"Phoenix Police Dept\"], label=\"Phoenix\", color = 'DarkCyan')\n",
    "\n",
    "# Make the Los Angeles line dotted\n",
    "plt.plot(data[\"Year\"], data[\"Los Angeles Police Dept\"], label=\"Los Angeles\", linestyle = \":\")\n",
    "\n",
    "# Add square markers to Philedelphia\n",
    "plt.plot(data[\"Year\"], data[\"Philadelphia Police Dept\"], label=\"Philadelphia\", marker = 's')\n",
    "\n",
    "# Add a legend\n",
    "plt.legend()\n",
    "\n",
    "# Display the plot\n",
    "plt.show()"
   ]
  },
  {
   "cell_type": "markdown",
   "id": "cd8ee8fb-acb5-4d13-8760-0a13eeab4386",
   "metadata": {},
   "source": [
    "### change the plots default style - like make it appear more like 538, ggplot etc"
   ]
  },
  {
   "cell_type": "code",
   "execution_count": 10,
   "id": "4c1f1e77-76b1-4a37-8291-db5c77d1c969",
   "metadata": {},
   "outputs": [
    {
     "ename": "NameError",
     "evalue": "name 'data' is not defined",
     "output_type": "error",
     "traceback": [
      "\u001b[1;31m---------------------------------------------------------------------------\u001b[0m",
      "\u001b[1;31mNameError\u001b[0m                                 Traceback (most recent call last)",
      "Input \u001b[1;32mIn [10]\u001b[0m, in \u001b[0;36m<cell line: 5>\u001b[1;34m()\u001b[0m\n\u001b[0;32m      2\u001b[0m plt\u001b[38;5;241m.\u001b[39mstyle\u001b[38;5;241m.\u001b[39muse(\u001b[38;5;124m'\u001b[39m\u001b[38;5;124mfivethirtyeight\u001b[39m\u001b[38;5;124m'\u001b[39m)\n\u001b[0;32m      4\u001b[0m \u001b[38;5;66;03m# Plot lines\u001b[39;00m\n\u001b[1;32m----> 5\u001b[0m plt\u001b[38;5;241m.\u001b[39mplot(\u001b[43mdata\u001b[49m[\u001b[38;5;124m\"\u001b[39m\u001b[38;5;124mYear\u001b[39m\u001b[38;5;124m\"\u001b[39m], data[\u001b[38;5;124m\"\u001b[39m\u001b[38;5;124mPhoenix Police Dept\u001b[39m\u001b[38;5;124m\"\u001b[39m], label\u001b[38;5;241m=\u001b[39m\u001b[38;5;124m\"\u001b[39m\u001b[38;5;124mPhoenix\u001b[39m\u001b[38;5;124m\"\u001b[39m)\n\u001b[0;32m      6\u001b[0m plt\u001b[38;5;241m.\u001b[39mplot(data[\u001b[38;5;124m\"\u001b[39m\u001b[38;5;124mYear\u001b[39m\u001b[38;5;124m\"\u001b[39m], data[\u001b[38;5;124m\"\u001b[39m\u001b[38;5;124mLos Angeles Police Dept\u001b[39m\u001b[38;5;124m\"\u001b[39m], label\u001b[38;5;241m=\u001b[39m\u001b[38;5;124m\"\u001b[39m\u001b[38;5;124mLos Angeles\u001b[39m\u001b[38;5;124m\"\u001b[39m)\n\u001b[0;32m      7\u001b[0m plt\u001b[38;5;241m.\u001b[39mplot(data[\u001b[38;5;124m\"\u001b[39m\u001b[38;5;124mYear\u001b[39m\u001b[38;5;124m\"\u001b[39m], data[\u001b[38;5;124m\"\u001b[39m\u001b[38;5;124mPhiladelphia Police Dept\u001b[39m\u001b[38;5;124m\"\u001b[39m], label\u001b[38;5;241m=\u001b[39m\u001b[38;5;124m\"\u001b[39m\u001b[38;5;124mPhiladelphia\u001b[39m\u001b[38;5;124m\"\u001b[39m)\n",
      "\u001b[1;31mNameError\u001b[0m: name 'data' is not defined"
     ]
    }
   ],
   "source": [
    "# Change the style to fivethirtyeight\n",
    "plt.style.use('fivethirtyeight')\n",
    "\n",
    "# Plot lines\n",
    "plt.plot(data[\"Year\"], data[\"Phoenix Police Dept\"], label=\"Phoenix\")\n",
    "plt.plot(data[\"Year\"], data[\"Los Angeles Police Dept\"], label=\"Los Angeles\")\n",
    "plt.plot(data[\"Year\"], data[\"Philadelphia Police Dept\"], label=\"Philadelphia\")\n",
    "\n",
    "# Add a legend\n",
    "plt.legend()\n",
    "\n",
    "# Display the plot\n",
    "plt.show()"
   ]
  },
  {
   "cell_type": "markdown",
   "id": "b362e652-3e0d-45f2-aa7d-f26c14465779",
   "metadata": {},
   "source": [
    "### tieing it all together"
   ]
  },
  {
   "cell_type": "code",
   "execution_count": 11,
   "id": "a6e78f59-1e16-4475-a68b-9b1c116f8833",
   "metadata": {},
   "outputs": [
    {
     "ename": "NameError",
     "evalue": "name 'ransom' is not defined",
     "output_type": "error",
     "traceback": [
      "\u001b[1;31m---------------------------------------------------------------------------\u001b[0m",
      "\u001b[1;31mNameError\u001b[0m                                 Traceback (most recent call last)",
      "Input \u001b[1;32mIn [11]\u001b[0m, in \u001b[0;36m<cell line: 2>\u001b[1;34m()\u001b[0m\n\u001b[0;32m      1\u001b[0m \u001b[38;5;66;03m# Plot each line\u001b[39;00m\n\u001b[1;32m----> 2\u001b[0m plt\u001b[38;5;241m.\u001b[39mplot(\u001b[43mransom\u001b[49m\u001b[38;5;241m.\u001b[39mletter, ransom\u001b[38;5;241m.\u001b[39mfrequency,\n\u001b[0;32m      3\u001b[0m          label\u001b[38;5;241m=\u001b[39m\u001b[38;5;124m'\u001b[39m\u001b[38;5;124mRansom\u001b[39m\u001b[38;5;124m'\u001b[39m, linestyle\u001b[38;5;241m=\u001b[39m\u001b[38;5;124m'\u001b[39m\u001b[38;5;124m:\u001b[39m\u001b[38;5;124m'\u001b[39m, color\u001b[38;5;241m=\u001b[39m\u001b[38;5;124m'\u001b[39m\u001b[38;5;124mgray\u001b[39m\u001b[38;5;124m'\u001b[39m)\n\u001b[0;32m      4\u001b[0m plt\u001b[38;5;241m.\u001b[39mplot(suspect1\u001b[38;5;241m.\u001b[39mletter, suspect1\u001b[38;5;241m.\u001b[39mfrequency, label\u001b[38;5;241m=\u001b[39m\u001b[38;5;124m'\u001b[39m\u001b[38;5;124mFred Frequentist\u001b[39m\u001b[38;5;124m'\u001b[39m)\n\u001b[0;32m      5\u001b[0m plt\u001b[38;5;241m.\u001b[39mplot(suspect2\u001b[38;5;241m.\u001b[39mletter, suspect2\u001b[38;5;241m.\u001b[39mfrequency, label\u001b[38;5;241m=\u001b[39m\u001b[38;5;124m'\u001b[39m\u001b[38;5;124mGertrude Cox\u001b[39m\u001b[38;5;124m'\u001b[39m)\n",
      "\u001b[1;31mNameError\u001b[0m: name 'ransom' is not defined"
     ]
    }
   ],
   "source": [
    "# Plot each line\n",
    "plt.plot(ransom.letter, ransom.frequency,\n",
    "         label='Ransom', linestyle=':', color='gray')\n",
    "plt.plot(suspect1.letter, suspect1.frequency, label='Fred Frequentist')\n",
    "plt.plot(suspect2.letter, suspect2.frequency, label='Gertrude Cox')\n",
    "\n",
    "# Add x- and y-labels\n",
    "plt.xlabel(\"Letter\")\n",
    "plt.ylabel(\"Frequency\")\n",
    "\n",
    "# Add a legend\n",
    "plt.legend()\n",
    "\n",
    "# Display plot\n",
    "plt.show()"
   ]
  },
  {
   "cell_type": "markdown",
   "id": "7888f64f-db2a-4655-8280-28afa1ac0555",
   "metadata": {},
   "source": [
    "### scatter plots"
   ]
  },
  {
   "cell_type": "code",
   "execution_count": null,
   "id": "5c5bb9ce-4f86-419a-8fdd-ebaa9d9ae06e",
   "metadata": {},
   "outputs": [],
   "source": [
    "# Change the transparency to 0.1\n",
    "plt.scatter(cellphone.x, cellphone.y,\n",
    "           color='red' #changes the point color,\n",
    "           marker='s' #makes the marker shape a square,\n",
    "           alpha=.1 #transparency)\n",
    "\n",
    "# Add labels\n",
    "plt.ylabel('Latitude')\n",
    "plt.xlabel('Longitude')\n",
    "\n",
    "# Display the plot\n",
    "plt.show()"
   ]
  },
  {
   "cell_type": "markdown",
   "id": "d72ae845-32fd-4e4f-93e4-ff7ed0a57c53",
   "metadata": {},
   "source": [
    "### plot out some bar plots!"
   ]
  },
  {
   "cell_type": "code",
   "execution_count": 1,
   "id": "43f1fb8c-fac4-40df-8cb3-8fef6552bb1e",
   "metadata": {},
   "outputs": [
    {
     "ename": "NameError",
     "evalue": "name 'hours' is not defined",
     "output_type": "error",
     "traceback": [
      "\u001b[1;31m---------------------------------------------------------------------------\u001b[0m",
      "\u001b[1;31mNameError\u001b[0m                                 Traceback (most recent call last)",
      "Input \u001b[1;32mIn [1]\u001b[0m, in \u001b[0;36m<cell line: 2>\u001b[1;34m()\u001b[0m\n\u001b[0;32m      1\u001b[0m \u001b[38;5;66;03m# Display the DataFrame hours using print\u001b[39;00m\n\u001b[1;32m----> 2\u001b[0m \u001b[38;5;28mprint\u001b[39m(\u001b[43mhours\u001b[49m)\n\u001b[0;32m      4\u001b[0m \u001b[38;5;66;03m# Create a bar plot from the DataFrame hours\u001b[39;00m\n\u001b[0;32m      5\u001b[0m plt\u001b[38;5;241m.\u001b[39mbar(hours\u001b[38;5;241m.\u001b[39mofficer, hours\u001b[38;5;241m.\u001b[39mavg_hours_worked,\n\u001b[0;32m      6\u001b[0m         \u001b[38;5;66;03m# Add error bars\u001b[39;00m\n\u001b[0;32m      7\u001b[0m         yerr\u001b[38;5;241m=\u001b[39mhours\u001b[38;5;241m.\u001b[39mstd_hours_worked)\n",
      "\u001b[1;31mNameError\u001b[0m: name 'hours' is not defined"
     ]
    }
   ],
   "source": [
    "# Display the DataFrame hours using print\n",
    "print(hours)\n",
    "\n",
    "# Create a bar plot from the DataFrame hours\n",
    "plt.bar(hours.officer, hours.avg_hours_worked,\n",
    "        # Add error bars\n",
    "        yerr=hours.std_hours_worked)\n",
    "\n",
    "# Display the plot\n",
    "plt.show()"
   ]
  },
  {
   "cell_type": "markdown",
   "id": "8e848d6f-0617-4bf2-97c9-d55c34a0209c",
   "metadata": {},
   "source": [
    "### adding some additional info to bar plot"
   ]
  },
  {
   "cell_type": "code",
   "execution_count": 3,
   "id": "d58d85b1-93ae-44b3-8edc-0fb8a1fba925",
   "metadata": {},
   "outputs": [
    {
     "ename": "SyntaxError",
     "evalue": "invalid syntax (2803323426.py, line 8)",
     "output_type": "error",
     "traceback": [
      "\u001b[1;36m  Input \u001b[1;32mIn [3]\u001b[1;36m\u001b[0m\n\u001b[1;33m    plt.legend()\u001b[0m\n\u001b[1;37m    ^\u001b[0m\n\u001b[1;31mSyntaxError\u001b[0m\u001b[1;31m:\u001b[0m invalid syntax\n"
     ]
    }
   ],
   "source": [
    "# Plot the number of hours spent on desk work\n",
    "plt.bar(hours.officer, hours.desk_work, label='Desk Work')\n",
    "\n",
    "# Plot the hours spent on field work on top of desk work\n",
    "plt.bar(hours.officer, hours.field_work, label='Field Work',bottom = hours.desk_work #specify which item goes on top in plot)\n",
    "\n",
    "# Add a legend\n",
    "plt.legend()\n",
    "\n",
    "# Display the plot\n",
    "plt.show()"
   ]
  },
  {
   "cell_type": "markdown",
   "id": "e5003347-097e-4b6a-9ac3-f00193cafcc8",
   "metadata": {},
   "source": [
    "### histograms"
   ]
  },
  {
   "cell_type": "code",
   "execution_count": 4,
   "id": "71650811-2809-4279-9f0a-76e17261991b",
   "metadata": {},
   "outputs": [
    {
     "ename": "SyntaxError",
     "evalue": "invalid syntax (3157625701.py, line 6)",
     "output_type": "error",
     "traceback": [
      "\u001b[1;36m  Input \u001b[1;32mIn [4]\u001b[1;36m\u001b[0m\n\u001b[1;33m    plt.xlabel('Puppy Weight (lbs)')\u001b[0m\n\u001b[1;37m    ^\u001b[0m\n\u001b[1;31mSyntaxError\u001b[0m\u001b[1;31m:\u001b[0m invalid syntax\n"
     ]
    }
   ],
   "source": [
    "# Change the range to start at 5 and end at 35\n",
    "plt.hist(puppies.weight,\n",
    "        range=(5, 35) #where to start/end your range)\n",
    "\n",
    "# Add labels\n",
    "plt.xlabel('Puppy Weight (lbs)')\n",
    "plt.ylabel('Number of Puppies')\n",
    "\n",
    "# Display\n",
    "plt.show()"
   ]
  },
  {
   "cell_type": "code",
   "execution_count": 5,
   "id": "d1926f4b-8a15-4d3f-805e-89812e86c66d",
   "metadata": {},
   "outputs": [
    {
     "ename": "NameError",
     "evalue": "name 'plt' is not defined",
     "output_type": "error",
     "traceback": [
      "\u001b[1;31m---------------------------------------------------------------------------\u001b[0m",
      "\u001b[1;31mNameError\u001b[0m                                 Traceback (most recent call last)",
      "Input \u001b[1;32mIn [5]\u001b[0m, in \u001b[0;36m<cell line: 2>\u001b[1;34m()\u001b[0m\n\u001b[0;32m      1\u001b[0m \u001b[38;5;66;03m# Create a histogram\u001b[39;00m\n\u001b[1;32m----> 2\u001b[0m \u001b[43mplt\u001b[49m\u001b[38;5;241m.\u001b[39mhist(gravel\u001b[38;5;241m.\u001b[39mradius,\n\u001b[0;32m      3\u001b[0m          bins\u001b[38;5;241m=\u001b[39m\u001b[38;5;241m40\u001b[39m,\n\u001b[0;32m      4\u001b[0m          \u001b[38;5;28mrange\u001b[39m\u001b[38;5;241m=\u001b[39m(\u001b[38;5;241m2\u001b[39m, \u001b[38;5;241m8\u001b[39m),\n\u001b[0;32m      5\u001b[0m          density\u001b[38;5;241m=\u001b[39m\u001b[38;5;28;01mTrue\u001b[39;00m)\n\u001b[0;32m      7\u001b[0m \u001b[38;5;66;03m# Label plot\u001b[39;00m\n\u001b[0;32m      8\u001b[0m plt\u001b[38;5;241m.\u001b[39mxlabel(\u001b[38;5;124m'\u001b[39m\u001b[38;5;124mGravel Radius (mm)\u001b[39m\u001b[38;5;124m'\u001b[39m)\n",
      "\u001b[1;31mNameError\u001b[0m: name 'plt' is not defined"
     ]
    }
   ],
   "source": [
    "# Create a histogram\n",
    "plt.hist(gravel.radius,\n",
    "         bins=40,\n",
    "         range=(2, 8),\n",
    "         density=True)\n",
    "\n",
    "# Label plot\n",
    "plt.xlabel('Gravel Radius (mm)')\n",
    "plt.ylabel('Frequency')\n",
    "plt.title('Sample from Shoeprint')\n",
    "\n",
    "# Display histogram\n",
    "plt.show()"
   ]
  },
  {
   "cell_type": "code",
   "execution_count": null,
   "id": "2765defb-7fb2-40f7-8321-f2a2062ba5d7",
   "metadata": {},
   "outputs": [],
   "source": []
  }
 ],
 "metadata": {
  "kernelspec": {
   "display_name": "Python 3 (ipykernel)",
   "language": "python",
   "name": "python3"
  },
  "language_info": {
   "codemirror_mode": {
    "name": "ipython",
    "version": 3
   },
   "file_extension": ".py",
   "mimetype": "text/x-python",
   "name": "python",
   "nbconvert_exporter": "python",
   "pygments_lexer": "ipython3",
   "version": "3.8.13"
  }
 },
 "nbformat": 4,
 "nbformat_minor": 5
}
