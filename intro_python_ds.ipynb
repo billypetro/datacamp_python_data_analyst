{
 "cells": [
  {
   "cell_type": "markdown",
   "id": "7988c8f3",
   "metadata": {},
   "source": [
    "### intro notes"
   ]
  },
  {
   "cell_type": "markdown",
   "id": "a28a237a",
   "metadata": {},
   "source": [
    "Modules (sometimes called packages or libraries) help group together related sets of tools in Python. In this exercise, we'll examine two modules that are frequently used by Data Scientists:\n",
    "\n",
    "statsmodels: used in machine learning; usually aliased as sm\n",
    "seaborn: a visualization library; usually aliased as sns\n",
    "Note that each module has a standard alias, which allows you to access the tools inside of the module without typing as many characters. For example, aliasing lets us shorten seaborn.scatterplot() to sns.scatterplot()."
   ]
  },
  {
   "cell_type": "markdown",
   "id": "e6c8e2ed",
   "metadata": {},
   "source": [
    "### import modules"
   ]
  },
  {
   "cell_type": "markdown",
   "id": "22f8423a",
   "metadata": {},
   "source": [
    "use an import statement to import statsmodels without an alias."
   ]
  },
  {
   "cell_type": "code",
   "execution_count": 5,
   "id": "369a82f1",
   "metadata": {},
   "outputs": [],
   "source": [
    "# Import statsmodels with no alias\n",
    "import statsmodels\n",
    "# Import statsmodels under the alias sm\n",
    "import statsmodels as sm\n",
    "# Use an import statement to import seaborn with alias sns\n",
    "import seaborn as sns"
   ]
  },
  {
   "cell_type": "markdown",
   "id": "6de9dc2e",
   "metadata": {},
   "source": [
    "### module issue"
   ]
  },
  {
   "cell_type": "code",
   "execution_count": 6,
   "id": "c280666e",
   "metadata": {},
   "outputs": [],
   "source": [
    "# Fix the import of numpy to run without errors\n",
    "import numpy as np"
   ]
  }
 ],
 "metadata": {
  "kernelspec": {
   "display_name": "Python 3 (ipykernel)",
   "language": "python",
   "name": "python3"
  },
  "language_info": {
   "codemirror_mode": {
    "name": "ipython",
    "version": 3
   },
   "file_extension": ".py",
   "mimetype": "text/x-python",
   "name": "python",
   "nbconvert_exporter": "python",
   "pygments_lexer": "ipython3",
   "version": "3.8.11"
  }
 },
 "nbformat": 4,
 "nbformat_minor": 5
}
