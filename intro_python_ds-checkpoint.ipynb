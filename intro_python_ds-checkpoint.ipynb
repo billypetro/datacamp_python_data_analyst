{
 "cells": [
  {
   "cell_type": "markdown",
   "id": "53061da9",
   "metadata": {},
   "source": [
    "### intro notes"
   ]
  },
  {
   "cell_type": "raw",
   "id": "96dab5a5",
   "metadata": {},
   "source": [
    "Modules (sometimes called packages or libraries) help group together related sets of tools in Python. In this exercise, we'll examine two modules that are frequently used by Data Scientists:\n",
    "\n",
    "statsmodels: used in machine learning; usually aliased as sm\n",
    "seaborn: a visualization library; usually aliased as sns\n",
    "Note that each module has a standard alias, which allows you to access the tools inside of the module without typing as many characters. For example, aliasing lets us shorten seaborn.scatterplot() to sns.scatterplot()."
   ]
  },
  {
   "cell_type": "markdown",
   "id": "85053e52",
   "metadata": {},
   "source": [
    "### import modules"
   ]
  },
  {
   "cell_type": "markdown",
   "id": "97c3dc53",
   "metadata": {},
   "source": [
    "use an import statement to import statsmodels without an alias."
   ]
  },
  {
   "cell_type": "code",
   "execution_count": 5,
   "id": "a8dceda3",
   "metadata": {},
   "outputs": [],
   "source": [
    "# Import statsmodels with no alias\n",
    "import statsmodels\n",
    "# Import statsmodels under the alias sm\n",
    "import statsmodels as sm\n",
    "# Use an import statement to import seaborn with alias sns\n",
    "import seaborn as sns"
   ]
  },
  {
   "cell_type": "markdown",
   "id": "76c2c4d3",
   "metadata": {},
   "source": [
    "### module issue"
   ]
  },
  {
   "cell_type": "code",
   "execution_count": 6,
   "id": "6477cec4",
   "metadata": {},
   "outputs": [],
   "source": [
    "# Fix the import of numpy to run without errors\n",
    "import numpy as np"
   ]
  }
 ],
 "metadata": {
  "kernelspec": {
   "display_name": "Python 3 (ipykernel)",
   "language": "python",
   "name": "python3"
  },
  "language_info": {
   "codemirror_mode": {
    "name": "ipython",
    "version": 3
   },
   "file_extension": ".py",
   "mimetype": "text/x-python",
   "name": "python",
   "nbconvert_exporter": "python",
   "pygments_lexer": "ipython3",
   "version": "3.8.11"
  }
 },
 "nbformat": 4,
 "nbformat_minor": 5
}
